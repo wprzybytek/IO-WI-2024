{
 "cells": [
  {
   "cell_type": "code",
   "execution_count": 12,
   "id": "initial_id",
   "metadata": {
    "collapsed": true,
    "ExecuteTime": {
     "end_time": "2024-03-24T20:59:44.709194Z",
     "start_time": "2024-03-24T20:59:28.563968Z"
    }
   },
   "outputs": [
    {
     "name": "stdout",
     "output_type": "stream",
     "text": [
      "Avg waiting time 216.246s\n",
      "Avg waiting time 221.281s\n",
      "Avg waiting time 222.75s\n",
      "Avg waiting time 223.633s\n",
      "Avg waiting time 229.648s\n",
      "Avg waiting time 207.522s\n",
      "Avg waiting time 217.495s\n",
      "Avg waiting time 212.672s\n",
      "Avg waiting time 216.086s\n",
      "Avg waiting time 222.616s\n"
     ]
    }
   ],
   "source": [
    "import traci\n",
    "from random import randint, choice\n",
    "\n",
    "for j in range(10):\n",
    "    traci.start([\"sumo\", \"-c\", \"./sumo_conf/scenario1/osm.sumocfg\"])\n",
    "    avg_waiting_time_sum = 0\n",
    "    for i in range(1000):\n",
    "        tl_ids = traci.trafficlight.getIDList()\n",
    "        tl_id = choice(tl_ids)\n",
    "        traci.trafficlight.setPhase(tl_id, randint(0, 7))\n",
    "        traci.simulationStep()\n",
    "        avg_waiting_time_sum += sum(traci.vehicle.getAccumulatedWaitingTime(vehicle_id) for vehicle_id in traci.vehicle.getIDList())\n",
    "\n",
    "    avg_waiting_time = avg_waiting_time_sum / 1000\n",
    "    print(f'Avg waiting time {avg_waiting_time}s')\n",
    "    traci.close()"
   ]
  }
 ],
 "metadata": {
  "kernelspec": {
   "display_name": "Python 3",
   "language": "python",
   "name": "python3"
  },
  "language_info": {
   "codemirror_mode": {
    "name": "ipython",
    "version": 2
   },
   "file_extension": ".py",
   "mimetype": "text/x-python",
   "name": "python",
   "nbconvert_exporter": "python",
   "pygments_lexer": "ipython2",
   "version": "2.7.6"
  }
 },
 "nbformat": 4,
 "nbformat_minor": 5
}
