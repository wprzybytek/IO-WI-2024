{
 "cells": [
  {
   "cell_type": "code",
   "execution_count": 83,
   "id": "initial_id",
   "metadata": {
    "collapsed": true,
    "ExecuteTime": {
     "end_time": "2024-04-28T13:04:38.800104Z",
     "start_time": "2024-04-28T13:04:38.765536Z"
    }
   },
   "source": [
    "import libsumo\n",
    "\n",
    "PHASES_COUNT = 8\n",
    "CONFIG_PATH = \"../sumo_conf/scenario1/osm.sumocfg\"\n",
    "MIN_TIME = 5\n",
    "MAX_TIME = 60\n",
    "\n",
    "\n",
    "class SumoContext:\n",
    "    def __enter__(self):\n",
    "        libsumo.start([\"sumo\", \"-c\", CONFIG_PATH])\n",
    "        return libsumo\n",
    "\n",
    "    def __exit__(self, exc_type, exc_val, exc_tb):\n",
    "        libsumo.close()\n",
    "\n",
    "\n",
    "def base_program_logic():\n",
    "    with SumoContext() as sumo:\n",
    "        junction_tl_id = sumo.trafficlight_getIDList()[0]\n",
    "        logic = sumo.trafficlight_getAllProgramLogics(junction_tl_id)[0]\n",
    "        return junction_tl_id, logic\n",
    "\n",
    "\n",
    "JUNCTION_TL_ID, LOGIC = base_program_logic()"
   ],
   "outputs": []
  },
  {
   "cell_type": "code",
   "source": [
    "def fitness(durations: list[int]):\n",
    "    with SumoContext() as sumo:\n",
    "        phases = LOGIC.getPhases()\n",
    "        for i in range(PHASES_COUNT):\n",
    "            phases[i].duration = float(durations[i])\n",
    "            phases[i].minDur = float(durations[i])\n",
    "            phases[i].maxDur = float(durations[i])\n",
    "        sumo.trafficlight.setProgramLogic(JUNCTION_TL_ID, LOGIC)\n",
    "        total_wt = 0\n",
    "        total_veh = 0\n",
    "        for i in range(3600):\n",
    "            sumo.simulationStep()\n",
    "            for veh_id in libsumo.vehicle.getIDList():\n",
    "                if libsumo.vehicle.getSpeed(veh_id) < 0.1:\n",
    "                    total_wt += 1\n",
    "            total_veh += libsumo.simulation.getArrivedNumber()\n",
    "        return total_wt / total_veh"
   ],
   "metadata": {
    "collapsed": false,
    "ExecuteTime": {
     "end_time": "2024-04-28T13:04:38.804935Z",
     "start_time": "2024-04-28T13:04:38.801108Z"
    }
   },
   "id": "6c49182b1d4b92c6",
   "execution_count": 84,
   "outputs": []
  },
  {
   "cell_type": "code",
   "source": [
    "phases_duration = list(map(lambda x: x.duration, base_program_logic()[1].getPhases()))\n",
    "default_res = fitness(phases_duration)\n",
    "print(\"Default solution: \\nX = %s\\nF = %s\" % (phases_duration, default_res))"
   ],
   "metadata": {
    "collapsed": false,
    "ExecuteTime": {
     "end_time": "2024-04-28T17:05:13.831507Z",
     "start_time": "2024-04-28T17:05:13.118923Z"
    }
   },
   "id": "348932e5ddd3d548",
   "execution_count": 104,
   "outputs": []
  },
  {
   "cell_type": "code",
   "source": [
    "from pymoo.core.problem import ElementwiseProblem\n",
    "from pymoo.algorithms.soo.nonconvex.ga import GA\n",
    "from pymoo.algorithms.soo.nonconvex.de import DE\n",
    "from pymoo.algorithms.soo.nonconvex.nelder import NelderMead\n",
    "from pymoo.algorithms.soo.nonconvex.cmaes import CMAES\n",
    "from pymoo.algorithms.soo.nonconvex.isres import ISRES\n",
    "from pymoo.optimize import minimize\n",
    "from pymoo.core.evaluator import Evaluator\n",
    "from pymoo.core.population import Population\n",
    "from random import randint\n",
    "import numpy as np\n",
    "\n",
    "\n",
    "class SumoProblem(ElementwiseProblem):\n",
    "    def __init__(self):\n",
    "        super().__init__(\n",
    "            n_var=PHASES_COUNT,\n",
    "            n_obj=1,\n",
    "            xl=np.array([MIN_TIME] * PHASES_COUNT),\n",
    "            xu=np.array([MAX_TIME] * PHASES_COUNT),\n",
    "        )\n",
    "\n",
    "    def _evaluate(self, x, out, *args, **kwargs):\n",
    "        out[\"F\"] = fitness(x)\n",
    "\n",
    "\n",
    "problem = SumoProblem()\n",
    "pop_size = 30"
   ],
   "metadata": {
    "collapsed": false,
    "ExecuteTime": {
     "end_time": "2024-04-28T13:04:39.521195Z",
     "start_time": "2024-04-28T13:04:39.517107Z"
    }
   },
   "id": "12da96f769937cbe",
   "execution_count": 86,
   "outputs": []
  },
  {
   "cell_type": "code",
   "source": [
    "X = [\n",
    "    list(map(lambda x: x.duration + randint(0, 5), base_program_logic()[1].getPhases()))\n",
    "    for _ in range(pop_size)\n",
    "]\n",
    "X = np.array(X)\n",
    "pop = Population.new(\"X\", X)\n",
    "Evaluator().eval(problem, pop)"
   ],
   "metadata": {
    "collapsed": false,
    "ExecuteTime": {
     "end_time": "2024-04-28T13:04:59.691109Z",
     "start_time": "2024-04-28T13:04:39.522201Z"
    }
   },
   "id": "956a1d3a9e8ed050",
   "execution_count": 87,
   "outputs": []
  },
  {
   "cell_type": "code",
   "source": [
    "ga = GA(pop_size=pop_size, eliminate_duplicates=True, sampling=pop)\n",
    "ga_res = minimize(\n",
    "    problem=problem, algorithm=ga, termination=(\"n_eval\", 2500), seed=1, verbose=True\n",
    ")\n",
    "print(\"Best solution found for GA: \\nX = %s\\nF = %s\" % (ga_res.X, ga_res.F))"
   ],
   "metadata": {
    "collapsed": false,
    "ExecuteTime": {
     "end_time": "2024-04-28T13:26:34.794435Z",
     "start_time": "2024-04-28T13:04:59.691109Z"
    }
   },
   "id": "2a69ec2c25593843",
   "execution_count": 88,
   "outputs": []
  },
  {
   "cell_type": "code",
   "source": [
    "de = DE(pop_size=pop_size, sampling=pop)\n",
    "de_res = minimize(\n",
    "    problem=problem, algorithm=de, termination=(\"n_eval\", 2500), seed=1, verbose=True\n",
    ")\n",
    "print(\"Best solution found for DE: \\nX = %s\\nF = %s\" % (de_res.X, de_res.F))"
   ],
   "metadata": {
    "collapsed": false,
    "ExecuteTime": {
     "end_time": "2024-04-28T13:49:18.652914Z",
     "start_time": "2024-04-28T13:26:34.795440Z"
    }
   },
   "id": "fd50858638d5b5f8",
   "execution_count": 89,
   "outputs": []
  },
  {
   "cell_type": "code",
   "source": [
    "nel = NelderMead(sampling=pop)\n",
    "nel_res = minimize(\n",
    "    problem=problem, algorithm=nel, termination=(\"n_eval\", 2500), seed=1, verbose=True\n",
    ")\n",
    "print(\"Best solution found for NelderMead: \\nX = %s\\nF = %s\" % (nel_res.X, nel_res.F))"
   ],
   "metadata": {
    "collapsed": false,
    "ExecuteTime": {
     "end_time": "2024-04-28T14:13:14.299828Z",
     "start_time": "2024-04-28T13:49:18.653918Z"
    }
   },
   "id": "420c8aebf6ccbad0",
   "execution_count": 90,
   "outputs": []
  },
  {
   "cell_type": "code",
   "source": [
    "cmaes = CMAES(pop_size=pop_size)\n",
    "cmaes_res = minimize(\n",
    "    problem=problem, algorithm=cmaes, termination=(\"n_eval\", 2500), seed=1, verbose=True\n",
    ")\n",
    "print(\"Best solution found for CMAES: \\nX = %s\\nF = %s\" % (cmaes_res.X, cmaes_res.F))"
   ],
   "metadata": {
    "collapsed": false,
    "ExecuteTime": {
     "end_time": "2024-04-28T14:33:47.867307Z",
     "start_time": "2024-04-28T14:13:14.300834Z"
    }
   },
   "id": "2e4488b729c3f017",
   "execution_count": 91,
   "outputs": []
  },
  {
   "cell_type": "code",
   "source": [
    "isres = ISRES(pop_size=pop_size, sampling=pop)\n",
    "isres_res = minimize(\n",
    "    problem=problem, algorithm=isres, termination=(\"n_eval\", 2500), seed=1, verbose=True\n",
    ")\n",
    "print(\"Best solution found for ISRES: \\nX = %s\\nF = %s\" % (isres_res.X, isres_res.F))"
   ],
   "metadata": {
    "collapsed": false,
    "ExecuteTime": {
     "end_time": "2024-04-28T15:03:51.228767Z",
     "start_time": "2024-04-28T14:33:47.868313Z"
    }
   },
   "id": "4c3d7012de7e1d82",
   "execution_count": 92,
   "outputs": []
  },
  {
   "cell_type": "code",
   "source": [
    "# make a diagram comparing all the algorithms results\n",
    "import matplotlib.pyplot as plt\n",
    "\n",
    "x = [\"DEFAULT\", \"GA\", \"DE\", \"NelderMead\", \"CMAES\", \"ISRES\"]\n",
    "y = [\n",
    "    default_res,\n",
    "    ga_res.F[0],\n",
    "    de_res.F[0],\n",
    "    nel_res.F[0],\n",
    "    cmaes_res.F[0],\n",
    "    isres_res.F[0],\n",
    "]\n",
    "plt.bar(x, y)"
   ],
   "metadata": {
    "collapsed": false,
    "ExecuteTime": {
     "end_time": "2024-04-28T17:05:20.519642Z",
     "start_time": "2024-04-28T17:05:20.451790Z"
    }
   },
   "id": "865734e8ee77e16",
   "execution_count": 105,
   "outputs": []
  }
 ],
 "metadata": {
  "kernelspec": {
   "display_name": "Python 3",
   "language": "python",
   "name": "python3"
  },
  "language_info": {
   "codemirror_mode": {
    "name": "ipython",
    "version": 2
   },
   "file_extension": ".py",
   "mimetype": "text/x-python",
   "name": "python",
   "nbconvert_exporter": "python",
   "pygments_lexer": "ipython2",
   "version": "2.7.6"
  }
 },
 "nbformat": 4,
 "nbformat_minor": 5
}
