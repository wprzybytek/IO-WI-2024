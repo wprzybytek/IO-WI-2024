{
 "cells": [
  {
   "cell_type": "code",
   "id": "initial_id",
   "metadata": {
    "collapsed": true,
    "ExecuteTime": {
     "end_time": "2024-05-13T07:57:49.437599Z",
     "start_time": "2024-05-13T07:57:49.434356Z"
    }
   },
   "source": [
    "import libsumo\n",
    "\n",
    "SMALL_TRAFFIC_PATH = '../sumo_conf/small-traffic/small.sumocfg'\n",
    "MEDIUM_TRAFFIC_PATH = '../sumo_conf/medium-traffic/medium.sumocfg'\n",
    "LARGE_TRAFFIC_PATH = '../sumo_conf/large-traffic/large.sumocfg'\n",
    "\n",
    "\n",
    "class SumoContext:\n",
    "    def __init__(self, config_path):\n",
    "        self.config_path = config_path\n",
    "\n",
    "    def __enter__(self):\n",
    "        libsumo.start([\"sumo\", \"-c\", self.config_path])\n",
    "        return libsumo\n",
    "\n",
    "    def __exit__(self, exc_type, exc_val, exc_tb):\n",
    "        libsumo.close()"
   ],
   "outputs": [],
   "execution_count": 16
  },
  {
   "cell_type": "code",
   "source": [
    "PHASES_COUNT = 8\n",
    "MIN_TIME = 5\n",
    "MAX_TIME = 60\n",
    "\n",
    "def fitness(config, durations: list[int]):\n",
    "    with SumoContext(config) as sumo:\n",
    "        tf_id = sumo.trafficlight_getIDList()[0]\n",
    "        logic = sumo.trafficlight_getAllProgramLogics(tf_id)[0]\n",
    "        phases = logic.getPhases()\n",
    "        for i in range(PHASES_COUNT):\n",
    "            phases[i].duration = float(durations[i])\n",
    "            phases[i].minDur = float(durations[i])\n",
    "            phases[i].maxDur = float(durations[i])\n",
    "        sumo.trafficlight.setProgramLogic(tf_id, logic)\n",
    "        total_wt = 0\n",
    "        total_veh = 0\n",
    "        for i in range(3600):\n",
    "            sumo.simulationStep()\n",
    "            for veh_id in libsumo.vehicle.getIDList():\n",
    "                if libsumo.vehicle.getSpeed(veh_id) < 0.1:\n",
    "                    total_wt += 1\n",
    "            total_veh += libsumo.simulation.getArrivedNumber()\n",
    "        return total_wt / total_veh\n",
    "\n",
    "with SumoContext(SMALL_TRAFFIC_PATH) as sumo:\n",
    "    phases_duration = list(map(lambda x: x.duration, sumo.trafficlight_getAllProgramLogics(sumo.trafficlight_getIDList()[0])[0].getPhases()))\n",
    "static_small = fitness(SMALL_TRAFFIC_PATH, phases_duration)\n",
    "static_medium = fitness(MEDIUM_TRAFFIC_PATH, phases_duration)\n",
    "static_large = fitness(LARGE_TRAFFIC_PATH, phases_duration)\n",
    "print('DEFAULT AVG WAITING TIMES:')\n",
    "print(f'SMALL TRAFFIC: {static_small}')\n",
    "print(f'MEDIUM TRAFFIC: {static_medium}')\n",
    "print(f'LARGE TRAFFIC: {static_large}')"
   ],
   "metadata": {
    "collapsed": false,
    "ExecuteTime": {
     "end_time": "2024-05-13T07:57:52.580371Z",
     "start_time": "2024-05-13T07:57:50.971171Z"
    }
   },
   "id": "bb57936db7201ebe",
   "outputs": [
    {
     "name": "stdout",
     "output_type": "stream",
     "text": [
      "DEFAULT AVG WAITING TIMES:\n",
      "SMALL TRAFFIC: 60.18571428571428\n",
      "MEDIUM TRAFFIC: 60.60283687943262\n",
      "LARGE TRAFFIC: 185.7764331210191\n"
     ]
    }
   ],
   "execution_count": 17
  },
  {
   "metadata": {
    "ExecuteTime": {
     "end_time": "2024-05-13T07:57:56.107574Z",
     "start_time": "2024-05-13T07:57:56.102878Z"
    }
   },
   "cell_type": "code",
   "source": [
    "from pymoo.core.problem import ElementwiseProblem\n",
    "from pymoo.algorithms.soo.nonconvex.cmaes import CMAES\n",
    "from pymoo.algorithms.soo.nonconvex.ga import GA\n",
    "from pymoo.optimize import minimize\n",
    "import numpy as np\n",
    "\n",
    "class SumoStaticProblem(ElementwiseProblem):\n",
    "    def __init__(self, config):\n",
    "        super().__init__(n_var=PHASES_COUNT, n_obj=1, xl=np.array([MIN_TIME] * PHASES_COUNT), xu=np.array([MAX_TIME] * PHASES_COUNT))\n",
    "        self.config = config\n",
    "\n",
    "    def _evaluate(self, x, out, *args, **kwargs):\n",
    "        out[\"F\"] = fitness(self.config, x)\n",
    "        \n",
    "cmaes = CMAES()\n",
    "ga = GA(eliminate_duplicates=True)\n",
    "small_static_problem = SumoStaticProblem(SMALL_TRAFFIC_PATH)\n",
    "medium_static_problem = SumoStaticProblem(MEDIUM_TRAFFIC_PATH)\n",
    "large_static_problem = SumoStaticProblem(LARGE_TRAFFIC_PATH)"
   ],
   "id": "1d18b6866aa72de2",
   "outputs": [],
   "execution_count": 18
  },
  {
   "metadata": {
    "ExecuteTime": {
     "end_time": "2024-05-13T08:35:14.183319Z",
     "start_time": "2024-05-13T08:01:11.102730Z"
    }
   },
   "cell_type": "code",
   "source": [
    "cmaes_static_small = minimize(problem=small_static_problem, algorithm=cmaes, termination=('n_eval', 1000), seed=1)\n",
    "print(\"Best solution found for CMAES: \\nX = %s\\nF = %s\" % (cmaes_static_small.X, cmaes_static_small.F))\n",
    "ga_static_small = minimize(problem=small_static_problem, algorithm=ga, termination=('n_eval', 1000), seed=1)\n",
    "print(\"Best solution found for GA: \\nX = %s\\nF = %s\" % (ga_static_small.X, ga_static_small.F))\n",
    "cmaes_static_medium = minimize(problem=medium_static_problem, algorithm=cmaes, termination=('n_eval', 1000), seed=1)\n",
    "print(\"Best solution found for CMAES: \\nX = %s\\nF = %s\" % (cmaes_static_medium.X, cmaes_static_medium.F))\n",
    "ga_static_medium = minimize(problem=medium_static_problem, algorithm=ga, termination=('n_eval', 1000), seed=1)\n",
    "print(\"Best solution found for GA: \\nX = %s\\nF = %s\" % (ga_static_medium.X, ga_static_medium.F))\n",
    "cmaes_static_large = minimize(problem=large_static_problem, algorithm=cmaes, termination=('n_eval', 1000), seed=1)\n",
    "print(\"Best solution found for CMAES: \\nX = %s\\nF = %s\" % (cmaes_static_large.X, cmaes_static_large.F))\n",
    "ga_static_large = minimize(problem=large_static_problem, algorithm=ga, termination=('n_eval', 1000), seed=1)\n",
    "print(\"Best solution found for GA: \\nX = %s\\nF = %s\" % (ga_static_large.X, ga_static_large.F))"
   ],
   "id": "65d5710b20c66ef2",
   "outputs": [
    {
     "name": "stdout",
     "output_type": "stream",
     "text": [
      "Best solution found for CMAES: \n",
      "X = [5.02487879 5.00410612 5.00964768 5.09415423 5.0004839  5.05746478\n",
      " 5.05230303 5.00419842]\n",
      "F = [12.84313725]\n",
      "Best solution found for GA: \n",
      "X = [ 7.41640536  7.01551702 16.39852925  6.09885137 13.14048137  5.30671226\n",
      " 11.24568481  5.1630346 ]\n",
      "F = [23.14647887]\n",
      "Best solution found for CMAES: \n",
      "X = [5.00606123 5.01307224 7.91773518 5.00867496 5.14866129 5.00289196\n",
      " 7.42440791 5.00932639]\n",
      "F = [15.08123249]\n",
      "Best solution found for GA: \n",
      "X = [ 9.32020252  5.41625304 25.21183604  7.1313655  10.87757542  5.00085138\n",
      " 17.47791298  5.98450256]\n",
      "F = [28.87694484]\n",
      "Best solution found for CMAES: \n",
      "X = [ 8.92990753  5.09024383 17.7270879   5.09727093  9.03892572  5.01447154\n",
      " 17.50690251  5.00052046]\n",
      "F = [27.45906268]\n",
      "Best solution found for GA: \n",
      "X = [11.46034756  7.90345387 32.96876233  5.11889759 12.93734701  5.36863292\n",
      " 41.10971909  5.42526608]\n",
      "F = [46.54576464]\n"
     ]
    }
   ],
   "execution_count": 20
  },
  {
   "metadata": {
    "ExecuteTime": {
     "end_time": "2024-05-13T09:55:30.862456Z",
     "start_time": "2024-05-13T09:55:30.859849Z"
    }
   },
   "cell_type": "code",
   "source": [
    "RED = 'r'\n",
    "YELLOW = 'y'\n",
    "GREEN = 'G'\n",
    "YELLOW_TIME = 3"
   ],
   "id": "2c3a37853dc53436",
   "outputs": [],
   "execution_count": 21
  },
  {
   "metadata": {
    "ExecuteTime": {
     "end_time": "2024-05-13T09:55:32.702771Z",
     "start_time": "2024-05-13T09:55:32.691577Z"
    }
   },
   "cell_type": "code",
   "source": [
    "def function_fitness(config, min_cars, min_time, max_time, change_ratio):\n",
    "    with SumoContext(config) as sumo:\n",
    "        tf_id = sumo.trafficlight_getIDList()[0]\n",
    "        logic = sumo.trafficlight_getAllProgramLogics(tf_id)[0]\n",
    "        phase = logic.phases[0]\n",
    "        current_state = [s for i, s in enumerate(phase.state) if i % 5 != 4]\n",
    "        current_time = [0 for i in range(len(current_state))]\n",
    "        current_change = ['' for i in range(len(current_state))]\n",
    "        lanes = [i for i in range(16)]\n",
    "        base_conflicts = {\n",
    "            0: [5],\n",
    "            1: [5, 6, 11, 12, 13, 14, 15],\n",
    "            2: [5, 6, 7, 11, 13, 14, 15],\n",
    "            3: [5, 6, 7, 9, 10, 14, 15]\n",
    "        }\n",
    "        total_wt = 0\n",
    "        total_veh = 0\n",
    "        \n",
    "        def get_conflicts(lane_id):\n",
    "            if base_conflicts.get(lane_id) is not None:\n",
    "                return base_conflicts[lane_id]\n",
    "            return [(i + 4 * (lane_id // 4)) % 16 for i in base_conflicts[lane_id % 4]]\n",
    "\n",
    "        def lane_to_light(lane_id):\n",
    "            if lane_id < 3: return [lane_id]\n",
    "            if lane_id == 3: return [lane_id, lane_id + 1]\n",
    "            if lane_id < 7: return [lane_id + 1]\n",
    "            if lane_id == 7: return [lane_id + 1, lane_id + 2]\n",
    "            if lane_id < 11: return [lane_id + 2]\n",
    "            if lane_id == 11: return [lane_id + 2, lane_id + 3]\n",
    "            if lane_id < 15: return [lane_id + 3]\n",
    "            return [lane_id + 3, lane_id + 4]\n",
    "\n",
    "        def change_state(lane, state):\n",
    "            current_state[lane] = state\n",
    "            for light_id in lane_to_light(lane):\n",
    "                phase.state = phase.state[:light_id] + state + phase.state[light_id + 1:]\n",
    "                sumo.trafficlight.setProgramLogic(tf_id, logic)\n",
    "            \n",
    "        def change_to_yellow(lane, change_to):\n",
    "            change_state(lane, YELLOW)\n",
    "            current_change[lane] = change_to\n",
    "            current_time[lane] = 0\n",
    "            \n",
    "        def should_be_candidate(lane, lane_waiting):\n",
    "            if lane_waiting > min_cars or current_time[lane] > max_time:\n",
    "                conflicts = get_conflicts(lane)\n",
    "                for conflict in conflicts:\n",
    "                    if current_change[conflict] == GREEN: break\n",
    "                    if current_state[conflict] == GREEN:\n",
    "                        if current_time[conflict] < min_time: break\n",
    "                        conflict_waiting = sumo.lane.getLastStepVehicleNumber(str(conflict))\n",
    "                        if conflict_waiting > 0 and lane_waiting > 0 and conflict_waiting / lane_waiting > change_ratio: break\n",
    "                else:\n",
    "                    return True\n",
    "            return False\n",
    "        \n",
    "        def change_candidates(step_changes):\n",
    "            step_changes.sort(key=lambda x: x[1], reverse=True)\n",
    "            for lane, _ in step_changes:\n",
    "                if current_state[lane] == YELLOW: continue\n",
    "                change_to_yellow(lane, GREEN)\n",
    "                for conflict in get_conflicts(lane):\n",
    "                    if current_state[conflict] != GREEN: continue\n",
    "                    change_to_yellow(conflict, RED)\n",
    "                    \n",
    "        def get_waiting_vehicles():\n",
    "            nonlocal total_wt, total_veh\n",
    "            for veh_id in sumo.vehicle.getIDList():\n",
    "                if sumo.vehicle.getSpeed(veh_id) < 0.1:\n",
    "                    total_wt += 1\n",
    "            total_veh += sumo.simulation.getArrivedNumber()\n",
    "                    \n",
    "        def update_times():\n",
    "            for lane in lanes:\n",
    "                if current_state[lane] == YELLOW and current_time[lane] == YELLOW_TIME:\n",
    "                    change_state(lane, current_change[lane])\n",
    "                    current_change[lane] = ''\n",
    "                    current_time[lane] = 0\n",
    "                else: current_time[lane] += 1\n",
    "        \n",
    "        for i in range(3600):\n",
    "            # go through all lanes and check if they are candidates for changing\n",
    "            step_changes = []\n",
    "            for lane in lanes:\n",
    "                if current_state[lane] == RED:\n",
    "                    lane_waiting = sumo.lane.getLastStepVehicleNumber(str(lane))\n",
    "                    if should_be_candidate(lane, lane_waiting):\n",
    "                        step_changes.append((lane, lane_waiting))\n",
    "                        \n",
    "            # change the state of the candidates, on conflict change only the light on the line that has longer queue \n",
    "            change_candidates(step_changes)\n",
    "\n",
    "            sumo.simulationStep()\n",
    "            \n",
    "            get_waiting_vehicles()\n",
    "            \n",
    "            # update time for lights, change yellow if needed\n",
    "            update_times()\n",
    "        \n",
    "    return total_wt / total_veh"
   ],
   "id": "7b20dc978a20809c",
   "outputs": [],
   "execution_count": 22
  },
  {
   "metadata": {
    "ExecuteTime": {
     "end_time": "2024-05-13T09:55:42.064117Z",
     "start_time": "2024-05-13T09:55:41.527730Z"
    }
   },
   "cell_type": "code",
   "source": "function_fitness(LARGE_TRAFFIC_PATH, min_cars=3, min_time=5, max_time=60, change_ratio=0.1)",
   "id": "b8e5bb7d33df4786",
   "outputs": [
    {
     "data": {
      "text/plain": [
       "22.4912676056338"
      ]
     },
     "execution_count": 23,
     "metadata": {},
     "output_type": "execute_result"
    }
   ],
   "execution_count": 23
  },
  {
   "metadata": {
    "ExecuteTime": {
     "end_time": "2024-05-13T09:55:44.095102Z",
     "start_time": "2024-05-13T09:55:44.091055Z"
    }
   },
   "cell_type": "code",
   "source": [
    "class SumoDynamicProblem(ElementwiseProblem):\n",
    "    def __init__(self, config):\n",
    "        super().__init__(n_var=4, n_obj=1, xl=np.array([0, 5, 30, 0.1]), xu=np.array([10, 60, 300, 10]))\n",
    "        self.config = config\n",
    "\n",
    "    def _evaluate(self, x, out, *args, **kwargs):\n",
    "        out[\"F\"] = function_fitness(config=self.config, min_cars=x[0], min_time=x[1], max_time=x[2], change_ratio=x[3])"
   ],
   "id": "94e6910176211746",
   "outputs": [],
   "execution_count": 24
  },
  {
   "metadata": {
    "ExecuteTime": {
     "end_time": "2024-05-13T09:55:45.970650Z",
     "start_time": "2024-05-13T09:55:45.967709Z"
    }
   },
   "cell_type": "code",
   "source": [
    "small_dynamic_problem = SumoDynamicProblem(SMALL_TRAFFIC_PATH)\n",
    "medium_dynamic_problem = SumoDynamicProblem(MEDIUM_TRAFFIC_PATH)\n",
    "large_dynamic_problem = SumoDynamicProblem(LARGE_TRAFFIC_PATH)"
   ],
   "id": "69edc9a035f8d9a3",
   "outputs": [],
   "execution_count": 25
  },
  {
   "metadata": {
    "ExecuteTime": {
     "end_time": "2024-05-13T09:56:10.120456Z",
     "start_time": "2024-05-13T09:55:48.019883Z"
    }
   },
   "cell_type": "code",
   "source": [
    "cmaes_medium = minimize(problem=medium_dynamic_problem, algorithm=cmaes, seed=1, termination=('n_eval', 1000), verbose=True)\n",
    "print(\"Best solution found for CMAES: \\nX = %s\\nF = %s\" % (cmaes_medium.X, cmaes_medium.F))"
   ],
   "id": "168c94e77a3c726a",
   "outputs": [
    {
     "name": "stdout",
     "output_type": "stream",
     "text": [
      "==================================================================================================\n",
      "n_gen  |  n_eval  |     f_avg     |     f_min     |     sigma     | min_std  | max_std  |   axis  \n",
      "==================================================================================================\n",
      "     1 |       20 |  5.204755E+01 |  1.108287E+01 |  0.1000000000 |  0.10000 |  0.10000 |  1.00004\n",
      "     2 |       28 |  1.508566E+01 |  9.9396067416 |  0.1036672750 |  0.09605 |  0.11429 |  1.46614\n",
      "     3 |       36 |  1.213533E+01 |  9.9396067416 |  0.0860031391 |  0.07062 |  0.09340 |  1.51907\n",
      "     4 |       44 |  1.209764E+01 |  9.9396067416 |  0.0833647997 |  0.05975 |  0.09794 |  1.89530\n",
      "     5 |       52 |  1.069151E+01 |  9.9396067416 |  0.0776259636 |  0.05130 |  0.09027 |  1.94218\n",
      "     6 |       60 |  1.051937E+01 |  9.9396067416 |  0.0670077735 |  0.04053 |  0.08216 |  2.23786\n",
      "     7 |       68 |  1.145886E+01 |  9.9396067416 |  0.0587504058 |  0.02920 |  0.07145 |  2.82445\n",
      "     8 |       76 |  1.066592E+01 |  9.9396067416 |  0.0542772291 |  0.02262 |  0.06946 |  3.44552\n",
      "     9 |       84 |  1.035104E+01 |  9.9396067416 |  0.0584695782 |  0.02185 |  0.07418 |  3.83673\n",
      "    10 |       92 |  1.019926E+01 |  9.9396067416 |  0.0551040339 |  0.01841 |  0.06639 |  4.14213\n",
      "    11 |      100 |  1.025085E+01 |  9.9396067416 |  0.0454849795 |  0.01427 |  0.05467 |  4.14213\n",
      "    12 |      101 |  9.9396067416 |  9.9396067416 |  0.0454849795 |  0.01427 |  0.05467 |  4.14213\n",
      "Best solution found for CMAES: \n",
      "X = [ 9.57842225 25.20618354 30.15943311  6.64760563]\n",
      "F = [9.93960674]\n"
     ]
    }
   ],
   "execution_count": 26
  },
  {
   "metadata": {
    "ExecuteTime": {
     "end_time": "2024-05-13T09:59:31.243982Z",
     "start_time": "2024-05-13T09:56:10.121463Z"
    }
   },
   "cell_type": "code",
   "source": [
    "ga_medium = minimize(problem=medium_dynamic_problem, algorithm=ga, termination=('n_eval', 1000), seed=1, verbose=True)\n",
    "print(\"Best solution found for GA: \\nX = %s\\nF = %s\" % (ga_medium.X, ga_medium.F))"
   ],
   "id": "db941ec7e6ccde38",
   "outputs": [
    {
     "name": "stdout",
     "output_type": "stream",
     "text": [
      "=================================================\n",
      "n_gen  |  n_eval  |     f_avg     |     f_min    \n",
      "=================================================\n",
      "     1 |      100 |  4.619367E+01 |  4.8137254902\n",
      "     2 |      200 |  1.824799E+01 |  4.8137254902\n",
      "     3 |      300 |  1.229192E+01 |  3.2783216783\n",
      "     4 |      400 |  8.9213324901 |  3.2783216783\n",
      "     5 |      500 |  5.3875583590 |  3.2783216783\n",
      "     6 |      600 |  4.2414545283 |  3.1162464986\n",
      "     7 |      700 |  3.6504839143 |  3.0798319328\n",
      "     8 |      800 |  3.3481449871 |  3.0419580420\n",
      "     9 |      900 |  3.2381894968 |  3.0419580420\n",
      "    10 |     1000 |  3.1827564201 |  2.9076923077\n",
      "Best solution found for GA: \n",
      "X = [  0.73463271   5.75444515 142.61428933   1.65543303]\n",
      "F = [2.90769231]\n"
     ]
    }
   ],
   "execution_count": 27
  },
  {
   "metadata": {
    "ExecuteTime": {
     "end_time": "2024-05-13T09:59:45.007081Z",
     "start_time": "2024-05-13T09:59:31.244987Z"
    }
   },
   "cell_type": "code",
   "source": [
    "cmaes_small = minimize(problem=small_dynamic_problem, algorithm=cmaes, seed=1,termination=('n_eval', 1000), verbose=True)\n",
    "print(\"Best solution found for CMAES: \\nX = %s\\nF = %s\" % (cmaes_small.X, cmaes_small.F))"
   ],
   "id": "98e70153b7be90b7",
   "outputs": [
    {
     "name": "stdout",
     "output_type": "stream",
     "text": [
      "==================================================================================================\n",
      "n_gen  |  n_eval  |     f_avg     |     f_min     |     sigma     | min_std  | max_std  |   axis  \n",
      "==================================================================================================\n",
      "     1 |       20 |  4.845860E+01 |  1.117087E+01 |  0.1000000000 |  0.10000 |  0.10000 |  1.00004\n",
      "     2 |       28 |  1.430006E+01 |  9.6685393258 |  0.1036672750 |  0.09605 |  0.11429 |  1.46614\n",
      "     3 |       36 |  1.174186E+01 |  9.6685393258 |  0.0858015802 |  0.07076 |  0.09330 |  1.50325\n",
      "     4 |       44 |  1.063129E+01 |  9.6685393258 |  0.0842291906 |  0.06428 |  0.10209 |  1.74511\n",
      "     5 |       52 |  1.020729E+01 |  9.6685393258 |  0.0895668796 |  0.06600 |  0.11770 |  1.89979\n",
      "     6 |       60 |  1.092721E+01 |  9.6685393258 |  0.0747347468 |  0.04581 |  0.10011 |  2.36078\n",
      "     7 |       68 |  1.092147E+01 |  9.6685393258 |  0.0711258963 |  0.03655 |  0.09102 |  2.62848\n",
      "     8 |       76 |  1.059298E+01 |  9.6685393258 |  0.0692235862 |  0.03362 |  0.09864 |  3.28993\n",
      "     9 |       84 |  1.077349E+01 |  9.6685393258 |  0.0626065255 |  0.02692 |  0.09348 |  4.26460\n",
      "    10 |       92 |  9.9959120583 |  9.6685393258 |  0.0572185125 |  0.02219 |  0.08079 |  4.63919\n",
      "    11 |      100 |  9.8563304535 |  9.6685393258 |  0.0495026319 |  0.01860 |  0.06542 |  4.63919\n",
      "    12 |      101 |  9.6685393258 |  9.6685393258 |  0.0495026319 |  0.01860 |  0.06542 |  4.63919\n",
      "Best solution found for CMAES: \n",
      "X = [ 9.57842225 25.20618354 30.15943311  6.64760563]\n",
      "F = [9.66853933]\n"
     ]
    }
   ],
   "execution_count": 28
  },
  {
   "metadata": {
    "ExecuteTime": {
     "end_time": "2024-05-13T10:02:01.966629Z",
     "start_time": "2024-05-13T09:59:45.008085Z"
    }
   },
   "cell_type": "code",
   "source": [
    "ga_small = minimize(problem=small_dynamic_problem, algorithm=ga, termination=('n_eval', 1000), seed=1, verbose=True)\n",
    "print(\"Best solution found for GA: \\nX = %s\\nF = %s\" % (ga_small.X, ga_small.F))"
   ],
   "id": "7d94f3ea1bdf1a4c",
   "outputs": [
    {
     "name": "stdout",
     "output_type": "stream",
     "text": [
      "=================================================\n",
      "n_gen  |  n_eval  |     f_avg     |     f_min    \n",
      "=================================================\n",
      "     1 |      100 |  4.453947E+01 |  4.0586592179\n",
      "     2 |      200 |  1.889614E+01 |  4.0586592179\n",
      "     3 |      300 |  1.201184E+01 |  3.1983240223\n",
      "     4 |      400 |  8.2567009365 |  2.1480446927\n",
      "     5 |      500 |  4.4392469292 |  1.9469273743\n",
      "     6 |      600 |  3.0968148178 |  1.9047619048\n",
      "     7 |      700 |  2.4713511885 |  1.8882681564\n",
      "     8 |      800 |  2.0227687276 |  1.7402234637\n",
      "     9 |      900 |  1.9336384051 |  1.6927374302\n",
      "    10 |     1000 |  1.8774825126 |  1.6340782123\n",
      "Best solution found for GA: \n",
      "X = [  0.64689476   7.4996957  218.81907642   3.08233139]\n",
      "F = [1.63407821]\n"
     ]
    }
   ],
   "execution_count": 29
  },
  {
   "metadata": {
    "ExecuteTime": {
     "end_time": "2024-05-13T10:04:04.819418Z",
     "start_time": "2024-05-13T10:02:01.967634Z"
    }
   },
   "cell_type": "code",
   "source": [
    "cmaes_large = minimize(problem=large_dynamic_problem, algorithm=cmaes, seed=1,termination=('n_eval', 1000), verbose=True)\n",
    "print(\"Best solution found for CMAES: \\nX = %s\\nF = %s\" % (cmaes_large.X, cmaes_large.F))"
   ],
   "id": "1d98139175b73b5e",
   "outputs": [
    {
     "name": "stdout",
     "output_type": "stream",
     "text": [
      "==================================================================================================\n",
      "n_gen  |  n_eval  |     f_avg     |     f_min     |     sigma     | min_std  | max_std  |   axis  \n",
      "==================================================================================================\n",
      "     1 |       20 |  4.564693E+01 |  1.470784E+01 |  0.1000000000 |  0.10000 |  0.10000 |  1.00004\n",
      "     2 |       28 |  1.343738E+01 |  9.7887640449 |  0.0974272891 |  0.08902 |  0.10105 |  1.37527\n",
      "     3 |       36 |  9.7979293142 |  8.8040426727 |  0.1039593780 |  0.09191 |  0.10813 |  1.56071\n",
      "     4 |       44 |  9.8997815221 |  7.9343065693 |  0.1036001646 |  0.08674 |  0.11278 |  1.66336\n",
      "     5 |       52 |  1.034723E+01 |  7.9343065693 |  0.1105757597 |  0.09611 |  0.13318 |  2.11846\n",
      "     6 |       60 |  9.0226103495 |  7.5991016283 |  0.1084057955 |  0.08748 |  0.12312 |  1.95610\n",
      "     7 |       68 |  9.3420428974 |  7.1422947132 |  0.1083901621 |  0.08009 |  0.12218 |  2.04528\n",
      "     8 |       76 |  1.328516E+01 |  7.1422947132 |  0.0932870000 |  0.06615 |  0.10374 |  2.14885\n",
      "     9 |       84 |  1.020244E+01 |  7.1422947132 |  0.0811965649 |  0.05567 |  0.08618 |  2.13233\n",
      "    10 |       92 |  9.0241267315 |  7.1422947132 |  0.0763097297 |  0.05277 |  0.07929 |  2.25943\n",
      "    11 |      100 |  2.070497E+01 |  7.1422947132 |  0.0804569126 |  0.05271 |  0.08295 |  2.03475\n",
      "    12 |      108 |  8.4109374223 |  7.1422947132 |  0.0807681501 |  0.05165 |  0.07897 |  2.05425\n",
      "    13 |      116 |  8.9939176430 |  7.1422947132 |  0.0850112095 |  0.05520 |  0.08206 |  1.94321\n",
      "    14 |      124 |  9.0155867003 |  7.1422947132 |  0.0809747890 |  0.05508 |  0.08021 |  2.46528\n",
      "    15 |      132 |  9.0729582076 |  7.1422947132 |  0.0729926661 |  0.04410 |  0.07319 |  2.47464\n",
      "    16 |      140 |  8.4605129323 |  7.1422947132 |  0.0667857153 |  0.03482 |  0.07069 |  2.79475\n",
      "    17 |      148 |  8.8957168165 |  7.1422947132 |  0.0597576170 |  0.02918 |  0.06692 |  3.19121\n",
      "    18 |      156 |  8.6288485493 |  7.1422947132 |  0.0516425267 |  0.02412 |  0.05649 |  3.22088\n",
      "    19 |      164 |  8.6417426058 |  7.1422947132 |  0.0437792912 |  0.01911 |  0.04833 |  3.37823\n",
      "    20 |      172 |  8.0985277515 |  7.1422947132 |  0.0408828649 |  0.01810 |  0.04194 |  3.03175\n",
      "    21 |      180 |  8.4921030121 |  7.1422947132 |  0.0362047112 |  0.01437 |  0.03744 |  3.23709\n",
      "    22 |      188 |  8.2826213754 |  7.1422947132 |  0.0395694076 |  0.01505 |  0.03669 |  3.24143\n",
      "    23 |      196 |  8.1246629777 |  7.1422947132 |  0.0379965510 |  0.01526 |  0.03431 |  3.04854\n",
      "    24 |      204 |  8.3477635034 |  7.1422947132 |  0.0362569411 |  0.01503 |  0.03016 |  2.63946\n",
      "    25 |      212 |  8.1484070936 |  7.1422947132 |  0.0317038076 |  0.01281 |  0.02460 |  2.84875\n",
      "    26 |      220 |  8.3345805349 |  7.1422947132 |  0.0303418452 |  0.01168 |  0.02302 |  2.62329\n",
      "    27 |      228 |  7.9418039507 |  7.1422947132 |  0.0285100353 |  0.01072 |  0.02006 |  2.32943\n",
      "    28 |      236 |  7.7329283496 |  7.1422947132 |  0.0256895742 |  0.00959 |  0.01710 |  2.16203\n",
      "    29 |      244 |  7.7247874274 |  7.1422947132 |  0.0213742736 |  0.00828 |  0.01374 |  1.95856\n",
      "    30 |      252 |  7.6800939846 |  7.1422947132 |  0.0200464639 |  0.00745 |  0.01249 |  1.93322\n",
      "    31 |      260 |  7.6539682519 |  7.1422947132 |  0.0186322175 |  0.00656 |  0.01154 |  1.94499\n",
      "    32 |      268 |  7.6345085289 |  7.1422947132 |  0.0158622494 |  0.00533 |  0.01032 |  2.35903\n",
      "    33 |      276 |  7.5891766584 |  7.1422947132 |  0.0150594258 |  0.00479 |  0.00980 |  2.77890\n",
      "    34 |      284 |  7.7803670315 |  7.1422947132 |  0.0124449235 |  0.00373 |  0.00782 |  2.84212\n",
      "    35 |      292 |  7.5412437770 |  7.1422947132 |  0.0110658315 |  0.00315 |  0.00650 |  2.70573\n",
      "    36 |      300 |  7.6286686547 |  7.1422947132 |  0.0092445675 |  0.00253 |  0.00514 |  2.78804\n",
      "    37 |      308 |  7.4516203606 |  7.1422947132 |  0.0077087710 |  0.00187 |  0.00412 |  2.97240\n",
      "    38 |      316 |  7.3757711722 |  7.1422947132 |  0.0070289145 |  0.00164 |  0.00366 |  2.97240\n",
      "    39 |      317 |  7.3757711722 |  7.1422947132 |  0.0070289145 |  0.00164 |  0.00366 |  2.97240\n",
      "Best solution found for CMAES: \n",
      "X = [  0.72975588   5.52163677 142.31868385   2.17301358]\n",
      "F = [7.14229471]\n"
     ]
    }
   ],
   "execution_count": 30
  },
  {
   "metadata": {
    "ExecuteTime": {
     "end_time": "2024-05-13T10:11:04.000208Z",
     "start_time": "2024-05-13T10:04:04.819418Z"
    }
   },
   "cell_type": "code",
   "source": [
    "ga_large = minimize(problem=large_dynamic_problem, algorithm=ga, termination=('n_eval', 1000), seed=1, verbose=True)\n",
    "print(\"Best solution found for GA: \\nX = %s\\nF = %s\" % (ga_large.X, ga_large.F))"
   ],
   "id": "505f4e545e58e27b",
   "outputs": [
    {
     "name": "stdout",
     "output_type": "stream",
     "text": [
      "=================================================\n",
      "n_gen  |  n_eval  |     f_avg     |     f_min    \n",
      "=================================================\n",
      "     1 |      100 |  4.493500E+01 |  1.018304E+01\n",
      "     2 |      200 |  2.160914E+01 |  1.018304E+01\n",
      "     3 |      300 |  1.561709E+01 |  9.2614084507\n",
      "     4 |      400 |  1.214034E+01 |  8.7355418304\n",
      "     5 |      500 |  9.8582430835 |  8.0084127874\n",
      "     6 |      600 |  9.1133886112 |  7.3415869443\n",
      "     7 |      700 |  8.7419894843 |  7.3415869443\n",
      "     8 |      800 |  8.4498187928 |  7.3415869443\n",
      "     9 |      900 |  8.2112262172 |  7.3415869443\n",
      "    10 |     1000 |  8.0152332997 |  7.1028089888\n",
      "Best solution found for GA: \n",
      "X = [  0.36900217   5.33461765 186.99640002   2.53199748]\n",
      "F = [7.10280899]\n"
     ]
    }
   ],
   "execution_count": 31
  },
  {
   "metadata": {
    "ExecuteTime": {
     "end_time": "2024-05-13T10:13:30.121927Z",
     "start_time": "2024-05-13T10:13:30.015784Z"
    }
   },
   "cell_type": "code",
   "source": [
    "import matplotlib.pyplot as plt\n",
    "\n",
    "x = ['Static Small', 'GA Static Small', 'CMAES Static Small', 'GA Dynamic Small', 'CMAES Dynamic Small', 'Static Medium', 'GA Static Medium', 'CMAES Static Medium', 'GA Dynamic Medium', 'CMAES Dynamic Medium', 'Static Large', 'GA Static Large', 'CMAES Static Large', 'GA Dynamic Large', 'CMAES Dynamic Large']\n",
    "y = [static_small, ga_static_small.F[0], cmaes_static_small.F[0], ga_small.F[0], cmaes_small.F[0], static_medium, ga_static_medium.F[0], cmaes_static_medium.F[0], ga_medium.F[0], cmaes_medium.F[0], static_large, ga_static_large.F[0], cmaes_static_large.F[0], ga_large.F[0], cmaes_large.F[0]]\n",
    "plt.xticks(rotation=90)\n",
    "plt.bar(x, y)"
   ],
   "id": "8e48142f9571cea6",
   "outputs": [
    {
     "data": {
      "text/plain": [
       "<BarContainer object of 15 artists>"
      ]
     },
     "execution_count": 33,
     "metadata": {},
     "output_type": "execute_result"
    },
    {
     "data": {
      "text/plain": [
       "<Figure size 640x480 with 1 Axes>"
      ],
      "image/png": "[encoded data removed]"
     },
     "metadata": {},
     "output_type": "display_data"
    }
   ],
   "execution_count": 33
  }
 ],
 "metadata": {
  "kernelspec": {
   "display_name": "Python 3",
   "language": "python",
   "name": "python3"
  },
  "language_info": {
   "codemirror_mode": {
    "name": "ipython",
    "version": 2
   },
   "file_extension": ".py",
   "mimetype": "text/x-python",
   "name": "python",
   "nbconvert_exporter": "python",
   "pygments_lexer": "ipython2",
   "version": "2.7.6"
  }
 },
 "nbformat": 4,
 "nbformat_minor": 5
}
