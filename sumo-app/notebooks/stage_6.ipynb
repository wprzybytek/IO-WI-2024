{
 "cells": [
  {
   "cell_type": "code",
   "id": "initial_id",
   "metadata": {
    "collapsed": true,
    "ExecuteTime": {
     "end_time": "2024-05-26T21:51:13.704647Z",
     "start_time": "2024-05-26T21:51:12.356979Z"
    }
   },
   "source": [
    "import libsumo\n",
    "from pymoo.core.problem import ElementwiseProblem\n",
    "from pymoo.algorithms.soo.nonconvex.ga import GA\n",
    "from pymoo.algorithms.hyperparameters import (\n",
    "    SingleObjectiveSingleRun,\n",
    "    HyperparameterProblem,\n",
    ")\n",
    "from pymoo.algorithms.soo.nonconvex.optuna import Optuna\n",
    "from pymoo.core.parameters import set_params, hierarchical, get_params\n",
    "from pymoo.optimize import minimize\n",
    "import numpy as np\n",
    "import matplotlib.pyplot as plt\n",
    "\n",
    "MASSIVE_TRAFFIC_PATH = \"../sumo_conf/massive-traffic/massive.sumocfg\"\n",
    "\n",
    "\n",
    "class SumoContext:\n",
    "    def __init__(self, config_path):\n",
    "        self.config_path = config_path\n",
    "\n",
    "    def __enter__(self):\n",
    "        libsumo.start([\"sumo\", \"-c\", self.config_path])\n",
    "        return libsumo\n",
    "\n",
    "    def __exit__(self, exc_type, exc_val, exc_tb):\n",
    "        libsumo.close()"
   ],
   "outputs": [],
   "execution_count": 1
  },
  {
   "metadata": {
    "ExecuteTime": {
     "end_time": "2024-05-26T13:39:25.924244Z",
     "start_time": "2024-05-26T13:39:25.921734Z"
    }
   },
   "cell_type": "code",
   "source": [
    "RED = \"r\"\n",
    "YELLOW = \"y\"\n",
    "GREEN = \"G\"\n",
    "YELLOW_TIME = 3"
   ],
   "id": "c09858585e67d82e",
   "outputs": [],
   "execution_count": 16
  },
  {
   "metadata": {
    "ExecuteTime": {
     "end_time": "2024-05-26T13:39:25.934403Z",
     "start_time": "2024-05-26T13:39:25.925249Z"
    }
   },
   "cell_type": "code",
   "source": [
    "def function_fitness(config, min_cars, min_time, max_time, change_ratio):\n",
    "    with SumoContext(config) as sumo:\n",
    "        tf_id = sumo.trafficlight_getIDList()[0]\n",
    "        logic = sumo.trafficlight_getAllProgramLogics(tf_id)[0]\n",
    "        phase = logic.phases[0]\n",
    "        current_state = [s for i, s in enumerate(phase.state) if i % 5 != 4]\n",
    "        current_time = [0 for _ in range(len(current_state))]\n",
    "        current_change = [\"\" for _ in range(len(current_state))]\n",
    "        lanes = [i for i in range(16)]\n",
    "        base_conflicts = {\n",
    "            0: [5],\n",
    "            1: [5, 6, 11, 12, 13, 14, 15],\n",
    "            2: [5, 6, 7, 11, 13, 14, 15],\n",
    "            3: [5, 6, 7, 9, 10, 14, 15],\n",
    "        }\n",
    "        total_wt = 0\n",
    "        total_veh = 0\n",
    "\n",
    "        def get_conflicts(lane_id):\n",
    "            if base_conflicts.get(lane_id) is not None:\n",
    "                return base_conflicts[lane_id]\n",
    "            return [(i + 4 * (lane_id // 4)) % 16 for i in base_conflicts[lane_id % 4]]\n",
    "\n",
    "        def lane_to_light(lane_id):\n",
    "            if lane_id < 3:\n",
    "                return [lane_id]\n",
    "            if lane_id == 3:\n",
    "                return [lane_id, lane_id + 1]\n",
    "            if lane_id < 7:\n",
    "                return [lane_id + 1]\n",
    "            if lane_id == 7:\n",
    "                return [lane_id + 1, lane_id + 2]\n",
    "            if lane_id < 11:\n",
    "                return [lane_id + 2]\n",
    "            if lane_id == 11:\n",
    "                return [lane_id + 2, lane_id + 3]\n",
    "            if lane_id < 15:\n",
    "                return [lane_id + 3]\n",
    "            return [lane_id + 3, lane_id + 4]\n",
    "\n",
    "        def change_state(lane, state):\n",
    "            current_state[lane] = state\n",
    "            for light_id in lane_to_light(lane):\n",
    "                phase.state = (\n",
    "                    phase.state[:light_id] + state + phase.state[light_id + 1 :]\n",
    "                )\n",
    "                sumo.trafficlight.setProgramLogic(tf_id, logic)\n",
    "\n",
    "        def change_to_yellow(lane, change_to):\n",
    "            change_state(lane, YELLOW)\n",
    "            current_change[lane] = change_to\n",
    "            current_time[lane] = 0\n",
    "\n",
    "        def should_be_candidate(lane, lane_waiting):\n",
    "            if lane_waiting > min_cars or current_time[lane] > max_time:\n",
    "                conflicts = get_conflicts(lane)\n",
    "                for conflict in conflicts:\n",
    "                    if current_change[conflict] == GREEN:\n",
    "                        break\n",
    "                    if current_state[conflict] == GREEN:\n",
    "                        if current_time[conflict] < min_time:\n",
    "                            break\n",
    "                        conflict_waiting = sumo.lane.getLastStepVehicleNumber(\n",
    "                            str(conflict)\n",
    "                        )\n",
    "                        if (\n",
    "                            conflict_waiting > 0\n",
    "                            and lane_waiting > 0\n",
    "                            and conflict_waiting / lane_waiting > change_ratio\n",
    "                        ):\n",
    "                            break\n",
    "                else:\n",
    "                    return True\n",
    "            return False\n",
    "\n",
    "        def change_candidates(step_changes):\n",
    "            step_changes.sort(key=lambda x: x[1], reverse=True)\n",
    "            for lane, _ in step_changes:\n",
    "                if current_state[lane] == YELLOW:\n",
    "                    continue\n",
    "                change_to_yellow(lane, GREEN)\n",
    "                for conflict in get_conflicts(lane):\n",
    "                    if current_state[conflict] != GREEN:\n",
    "                        continue\n",
    "                    change_to_yellow(conflict, RED)\n",
    "\n",
    "        def get_waiting_vehicles():\n",
    "            nonlocal total_wt, total_veh\n",
    "            for veh_id in sumo.vehicle.getIDList():\n",
    "                if sumo.vehicle.getSpeed(veh_id) < 0.1:\n",
    "                    total_wt += 1\n",
    "            total_veh += sumo.simulation.getArrivedNumber()\n",
    "\n",
    "        def update_times():\n",
    "            for lane in lanes:\n",
    "                if current_state[lane] == YELLOW and current_time[lane] == YELLOW_TIME:\n",
    "                    change_state(lane, current_change[lane])\n",
    "                    current_change[lane] = \"\"\n",
    "                    current_time[lane] = 0\n",
    "                else:\n",
    "                    current_time[lane] += 1\n",
    "\n",
    "        for i in range(3600):\n",
    "            # go through all lanes and check if they are candidates for changing\n",
    "            step_changes = []\n",
    "            for lane in lanes:\n",
    "                if current_state[lane] == RED:\n",
    "                    lane_waiting = sumo.lane.getLastStepVehicleNumber(str(lane))\n",
    "                    if should_be_candidate(lane, lane_waiting):\n",
    "                        step_changes.append((lane, lane_waiting))\n",
    "\n",
    "            # change the state of the candidates, on conflict change only the light on the line that has longer queue\n",
    "            change_candidates(step_changes)\n",
    "\n",
    "            sumo.simulationStep()\n",
    "\n",
    "            get_waiting_vehicles()\n",
    "\n",
    "            # update time for lights, change yellow if needed\n",
    "            update_times()\n",
    "\n",
    "    return total_wt / total_veh"
   ],
   "id": "a7b6621f055ed842",
   "outputs": [],
   "execution_count": 17
  },
  {
   "metadata": {
    "ExecuteTime": {
     "end_time": "2024-05-26T17:30:35.602211Z",
     "start_time": "2024-05-26T17:30:35.598391Z"
    }
   },
   "cell_type": "code",
   "source": [
    "class SumoDynamicProblem(ElementwiseProblem):\n",
    "    def __init__(self, config):\n",
    "        super().__init__(\n",
    "            n_var=4,\n",
    "            n_obj=1,\n",
    "            xl=np.array([0, 5, 30, 0.1]),\n",
    "            xu=np.array([10, 60, 300, 10]),\n",
    "        )\n",
    "        self.config = config\n",
    "\n",
    "    def _evaluate(self, x, out, *args, **kwargs):\n",
    "        out[\"F\"] = function_fitness(\n",
    "            config=self.config,\n",
    "            min_cars=x[0],\n",
    "            min_time=x[1],\n",
    "            max_time=x[2],\n",
    "            change_ratio=x[3],\n",
    "        )\n",
    "\n",
    "\n",
    "ga = GA(pop_size=50, eliminate_duplicates=True)\n",
    "problem = SumoDynamicProblem(MASSIVE_TRAFFIC_PATH)"
   ],
   "id": "24b9b00039174066",
   "outputs": [],
   "execution_count": 26
  },
  {
   "metadata": {
    "ExecuteTime": {
     "end_time": "2024-05-26T18:01:37.347959Z",
     "start_time": "2024-05-26T17:30:39.619753Z"
    }
   },
   "cell_type": "code",
   "source": [
    "ga_base = minimize(\n",
    "    problem=problem,\n",
    "    algorithm=ga,\n",
    "    seed=1,\n",
    "    termination=(\"n_eval\", 1000),\n",
    "    verbose=True,\n",
    "    save_history=True,\n",
    ")\n",
    "print(\"Best solution found for GA base: \\nX = %s\\nF = %s\" % (ga_base.X, ga_base.F))"
   ],
   "id": "5dd1213f4ef0168d",
   "outputs": [
    {
     "name": "stdout",
     "output_type": "stream",
     "text": [
      "=================================================\n",
      "n_gen  |  n_eval  |     f_avg     |     f_min    \n",
      "=================================================\n",
      "     1 |       50 |  1.028059E+02 |  7.355464E+01\n",
      "     2 |      100 |  9.178975E+01 |  7.355464E+01\n",
      "     3 |      150 |  8.608653E+01 |  7.355464E+01\n",
      "     4 |      200 |  7.948489E+01 |  6.992252E+01\n",
      "     5 |      250 |  7.517395E+01 |  6.915791E+01\n",
      "     6 |      300 |  7.302357E+01 |  6.815718E+01\n",
      "     7 |      350 |  7.117610E+01 |  6.726445E+01\n",
      "     8 |      400 |  7.015164E+01 |  6.726445E+01\n",
      "     9 |      450 |  6.907170E+01 |  6.726445E+01\n",
      "    10 |      500 |  6.858135E+01 |  6.703075E+01\n",
      "    11 |      550 |  6.832104E+01 |  6.703075E+01\n",
      "    12 |      600 |  6.798034E+01 |  6.703075E+01\n",
      "    13 |      650 |  6.790235E+01 |  6.703075E+01\n",
      "    14 |      700 |  6.781330E+01 |  6.703075E+01\n",
      "    15 |      750 |  6.772219E+01 |  6.703075E+01\n",
      "    16 |      800 |  6.759947E+01 |  6.703075E+01\n",
      "    17 |      850 |  6.752279E+01 |  6.703075E+01\n",
      "    18 |      900 |  6.733583E+01 |  6.703075E+01\n",
      "    19 |      950 |  6.716799E+01 |  6.703075E+01\n",
      "    20 |     1000 |  6.702874E+01 |  6.693056E+01\n",
      "Best solution found for GA base: \n",
      "X = [  2.27564992  13.1455472  113.31838944   0.6433358 ]\n",
      "F = [66.93055556]\n"
     ]
    }
   ],
   "execution_count": 27
  },
  {
   "metadata": {
    "ExecuteTime": {
     "end_time": "2024-05-26T18:01:37.416931Z",
     "start_time": "2024-05-26T18:01:37.348965Z"
    }
   },
   "cell_type": "code",
   "source": [
    "val = [e.opt.get(\"F\")[0] for e in ga_base.history]\n",
    "plt.plot(np.arange(len(val)), val)\n",
    "plt.title(\"Base GA\")\n",
    "plt.xlabel(\"Generation\")\n",
    "plt.ylabel(\"Fitness\")\n",
    "plt.show()"
   ],
   "id": "c7d70507e7047fe3",
   "outputs": [
    {
     "data": {
      "text/plain": [
       "<Figure size 640x480 with 1 Axes>"
      ],
      "image/png": "[encoded data removed]"
     },
     "metadata": {},
     "output_type": "display_data"
    }
   ],
   "execution_count": 28
  },
  {
   "metadata": {
    "ExecuteTime": {
     "end_time": "2024-05-26T19:06:27.371908Z",
     "start_time": "2024-05-26T18:01:37.416931Z"
    }
   },
   "cell_type": "code",
   "source": [
    "performance = SingleObjectiveSingleRun(problem, termination=(\"n_evals\", 200), seed=1)\n",
    "\n",
    "res = minimize(\n",
    "    HyperparameterProblem(ga, performance),\n",
    "    Optuna(),\n",
    "    termination=(\"n_evals\", 10),\n",
    "    seed=1,\n",
    "    verbose=True,\n",
    ")\n",
    "\n",
    "hyperparams = res.X\n",
    "print(hyperparams)\n",
    "set_params(ga, hierarchical(hyperparams))"
   ],
   "id": "110477e9b9b53758",
   "outputs": [
    {
     "name": "stdout",
     "output_type": "stream",
     "text": [
      "=================================================\n",
      "n_gen  |  n_eval  |     f_avg     |     f_min    \n",
      "=================================================\n",
      "     1 |        1 |  7.027577E+01 |  7.027577E+01\n",
      "     2 |        2 |  7.196245E+01 |  7.027577E+01\n",
      "     3 |        3 |  6.923899E+01 |  6.923899E+01\n",
      "     4 |        4 |  7.293898E+01 |  6.923899E+01\n",
      "     5 |        5 |  6.907830E+01 |  6.907830E+01\n",
      "     6 |        6 |  7.203060E+01 |  6.907830E+01\n",
      "     7 |        7 |  7.155894E+01 |  6.907830E+01\n",
      "     8 |        8 |  6.813345E+01 |  6.813345E+01\n",
      "     9 |        9 |  7.024722E+01 |  6.813345E+01\n",
      "    10 |       10 |  6.697093E+01 |  6.697093E+01\n",
      "{'mating.mutation.eta': 14.182840277226372, 'mating.mutation.prob': 0.7149860376838261, 'mating.crossover.prob_bin': 0.5358964059155116, 'mating.crossover.prob_exch': 0.6637946452197888, 'mating.crossover.eta': 16.90200602557433, 'mating.crossover.prob_var': 0.8556758047926507, 'mating.crossover.prob': 0.7932775202509965}\n"
     ]
    }
   ],
   "execution_count": 29
  },
  {
   "metadata": {
    "ExecuteTime": {
     "end_time": "2024-05-26T19:39:46.088865Z",
     "start_time": "2024-05-26T19:06:27.372914Z"
    }
   },
   "cell_type": "code",
   "source": [
    "ga_tuned = minimize(\n",
    "    problem=problem,\n",
    "    algorithm=ga,\n",
    "    seed=1,\n",
    "    termination=(\"n_eval\", 1000),\n",
    "    verbose=True,\n",
    "    save_history=True,\n",
    ")\n",
    "print(\"Best solution found for GA tuned: \\nX = %s\\nF = %s\" % (ga_tuned.X, ga_tuned.F))"
   ],
   "id": "56ba800e17d24d30",
   "outputs": [
    {
     "name": "stdout",
     "output_type": "stream",
     "text": [
      "=================================================\n",
      "n_gen  |  n_eval  |     f_avg     |     f_min    \n",
      "=================================================\n",
      "     1 |       50 |  1.028059E+02 |  7.355464E+01\n",
      "     2 |      100 |  9.164200E+01 |  7.355464E+01\n",
      "     3 |      150 |  8.539412E+01 |  7.114092E+01\n",
      "     4 |      200 |  7.949418E+01 |  6.697093E+01\n",
      "     5 |      250 |  7.527863E+01 |  6.697093E+01\n",
      "     6 |      300 |  7.272970E+01 |  6.697093E+01\n",
      "     7 |      350 |  7.172197E+01 |  6.697093E+01\n",
      "     8 |      400 |  7.101132E+01 |  6.697093E+01\n",
      "     9 |      450 |  7.028288E+01 |  6.697093E+01\n",
      "    10 |      500 |  6.960544E+01 |  6.697093E+01\n",
      "    11 |      550 |  6.905968E+01 |  6.697093E+01\n",
      "    12 |      600 |  6.826891E+01 |  6.697093E+01\n",
      "    13 |      650 |  6.698101E+01 |  6.697093E+01\n",
      "    14 |      700 |  6.697093E+01 |  6.697093E+01\n",
      "    15 |      750 |  6.697093E+01 |  6.697093E+01\n",
      "    16 |      800 |  6.697093E+01 |  6.697093E+01\n",
      "    17 |      850 |  6.697093E+01 |  6.697093E+01\n",
      "    18 |      900 |  6.697093E+01 |  6.697093E+01\n",
      "    19 |      950 |  6.697093E+01 |  6.697093E+01\n",
      "    20 |     1000 |  6.697093E+01 |  6.697093E+01\n",
      "Best solution found for GA tuned: \n",
      "X = [ 2.77537983  5.34166583 33.47457186  0.94643714]\n",
      "F = [66.97092851]\n"
     ]
    }
   ],
   "execution_count": 30
  },
  {
   "metadata": {
    "ExecuteTime": {
     "end_time": "2024-05-26T19:39:46.219301Z",
     "start_time": "2024-05-26T19:39:46.089871Z"
    }
   },
   "cell_type": "code",
   "source": [
    "val = [e.opt.get(\"F\")[0] for e in ga_tuned.history]\n",
    "plt.plot(np.arange(len(val)), val)\n",
    "plt.title(\"Tuned GA\")\n",
    "plt.xlabel(\"Generation\")\n",
    "plt.ylabel(\"Fitness\")\n",
    "plt.show()"
   ],
   "id": "243fe7175568025b",
   "outputs": [
    {
     "data": {
      "text/plain": [
       "<Figure size 640x480 with 1 Axes>"
      ],
      "image/png": "[encoded data removed]"
     },
     "metadata": {},
     "output_type": "display_data"
    }
   ],
   "execution_count": 31
  }
 ],
 "metadata": {
  "kernelspec": {
   "display_name": "Python 3",
   "language": "python",
   "name": "python3"
  },
  "language_info": {
   "codemirror_mode": {
    "name": "ipython",
    "version": 2
   },
   "file_extension": ".py",
   "mimetype": "text/x-python",
   "name": "python",
   "nbconvert_exporter": "python",
   "pygments_lexer": "ipython2",
   "version": "2.7.6"
  }
 },
 "nbformat": 4,
 "nbformat_minor": 5
}
